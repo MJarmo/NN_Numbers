{
  "nbformat": 4,
  "nbformat_minor": 0,
  "metadata": {
    "colab": {
      "name": "mnist_cnn.ipynb",
      "provenance": [],
      "collapsed_sections": [],
      "include_colab_link": true
    },
    "kernelspec": {
      "name": "python3",
      "display_name": "Python 3"
    },
    "accelerator": "GPU"
  },
  "cells": [
    {
      "cell_type": "markdown",
      "metadata": {
        "id": "view-in-github",
        "colab_type": "text"
      },
      "source": [
        "<a href=\"https://colab.research.google.com/github/PolygonumAviculare/NN_Numbers/blob/master/mnist_cnn.ipynb\" target=\"_parent\"><img src=\"https://colab.research.google.com/assets/colab-badge.svg\" alt=\"Open In Colab\"/></a>"
      ]
    },
    {
      "cell_type": "markdown",
      "metadata": {
        "id": "sdiw6YpFBIxg",
        "colab_type": "text"
      },
      "source": [
        "##Konwolucyjna Sieć Neuronowa - MNIST"
      ]
    },
    {
      "cell_type": "code",
      "metadata": {
        "id": "IbofGZ9nBFvP",
        "colab_type": "code",
        "outputId": "836a0f90-7472-4e2d-b302-8f0991e241df",
        "colab": {
          "base_uri": "https://localhost:8080/",
          "height": 458
        }
      },
      "source": [
        "import keras \n",
        "from keras.datasets import mnist\n",
        "from keras.models import Sequential\n",
        "from keras.layers import Dense, Dropout, Flatten\n",
        "from keras.layers import Conv2D, MaxPooling2D\n",
        "from keras import backend as K\n",
        "\n",
        "(X_train, y_train), (X_test, y_test) = mnist.load_data()\n",
        "\n",
        "print (X_train.shape)\n",
        "print (y_train.shape)\n",
        "print (X_test.shape)\n",
        "print (y_test.shape)\n",
        "\n",
        "print('Liczba danych traningowych: ', X_train.shape[0])\n",
        "print('Liczba danych testowych: ', X_test.shape[0])\n",
        "print ('Rozmiar pojedynczego obrazka: ', X_train[0].shape)\n",
        "\n",
        "import matplotlib.pyplot as plt\n",
        "\n",
        "plt.imshow(X_train[0], cmap='Greys')\n",
        "plt.axis('off')"
      ],
      "execution_count": 0,
      "outputs": [
        {
          "output_type": "stream",
          "text": [
            "Using TensorFlow backend.\n"
          ],
          "name": "stderr"
        },
        {
          "output_type": "stream",
          "text": [
            "Downloading data from https://s3.amazonaws.com/img-datasets/mnist.npz\n",
            "11493376/11490434 [==============================] - 1s 0us/step\n",
            "(60000, 28, 28)\n",
            "(60000,)\n",
            "(10000, 28, 28)\n",
            "(10000,)\n",
            "Liczba danych traningowych:  60000\n",
            "Liczba danych testowych:  10000\n",
            "Rozmiar pojedynczego obrazka:  (28, 28)\n"
          ],
          "name": "stdout"
        },
        {
          "output_type": "execute_result",
          "data": {
            "text/plain": [
              "(-0.5, 27.5, 27.5, -0.5)"
            ]
          },
          "metadata": {
            "tags": []
          },
          "execution_count": 3
        },
        {
          "output_type": "display_data",
          "data": {
            "image/png": "[encoded data removed]",
            "text/plain": [
              "<Figure size 432x288 with 1 Axes>"
            ]
          },
          "metadata": {
            "tags": []
          }
        }
      ]
    },
    {
      "cell_type": "code",
      "metadata": {
        "id": "JMh6ofAlCJRl",
        "colab_type": "code",
        "outputId": "0afe8ea3-19f9-44f3-aadb-2640e83aa7cf",
        "colab": {
          "base_uri": "https://localhost:8080/",
          "height": 34
        }
      },
      "source": [
        "print(keras.backend.image_data_format())\n"
      ],
      "execution_count": 0,
      "outputs": [
        {
          "output_type": "stream",
          "text": [
            "channels_last\n"
          ],
          "name": "stdout"
        }
      ]
    },
    {
      "cell_type": "code",
      "metadata": {
        "id": "UAK0EiweCUhO",
        "colab_type": "code",
        "outputId": "35bdaf83-1989-41ae-a3c9-2d2aa40645db",
        "colab": {
          "base_uri": "https://localhost:8080/",
          "height": 34
        }
      },
      "source": [
        "img_rows, img_cols = 28,28\n",
        "if K.image_data_format() == 'channel_first':\n",
        "  X_train = X_train.reshape(X_train.shape[0], 1, img_rows, img_cols)\n",
        "  X_test = X_test.reshape(X_test.shape[0], 1, img_rows, img_cols)\n",
        "  input_shape = (1,img_rows, img_cols)\n",
        "else:\n",
        "  X_train = X_train.reshape(X_train.shape[0],  img_rows, img_cols, 1)\n",
        "  X_test = X_test.reshape(X_test.shape[0],  img_rows, img_cols, 1)\n",
        "  input_shape = (img_rows, img_cols, 1)\n",
        "    \n",
        "print (input_shape)"
      ],
      "execution_count": 0,
      "outputs": [
        {
          "output_type": "stream",
          "text": [
            "(28, 28, 1)\n"
          ],
          "name": "stdout"
        }
      ]
    },
    {
      "cell_type": "code",
      "metadata": {
        "id": "zCWL0MV5u0Le",
        "colab_type": "code",
        "outputId": "7baaaff8-30cc-438f-cea1-54cd371e5285",
        "colab": {
          "base_uri": "https://localhost:8080/",
          "height": 34
        }
      },
      "source": [
        "X_train  = X_train.astype('float32')\n",
        "X_test = X_test.astype('float32')\n",
        "X_train /= 255\n",
        "X_test /= 255\n",
        "print(X_train.shape)\n",
        "\n",
        "y_train = keras.utils.to_categorical(y_train, num_classes=10)\n",
        "y_test = keras.utils.to_categorical(y_test, num_classes=10)\n"
      ],
      "execution_count": 0,
      "outputs": [
        {
          "output_type": "stream",
          "text": [
            "(60000, 28, 28, 1)\n"
          ],
          "name": "stdout"
        }
      ]
    },
    {
      "cell_type": "code",
      "metadata": {
        "id": "p6cXLWxpyIqQ",
        "colab_type": "code",
        "outputId": "68132276-5181-49e3-9139-5df57e390b43",
        "colab": {
          "base_uri": "https://localhost:8080/",
          "height": 530
        }
      },
      "source": [
        "model = Sequential()\n",
        "model.add(Conv2D(filters=32, kernel_size=(3,3), activation='relu', input_shape=(28,28,1)))\n",
        "model.add(Conv2D(filters=64, kernel_size=(3,3), activation='relu'))\n",
        "model.add(MaxPooling2D())\n",
        "model.add(Flatten())\n",
        "model.add(Dense(units=128, activation='relu'))\n",
        "model.add(Dense(units=10, activation='softmax'))\n",
        "\n",
        "model.summary()"
      ],
      "execution_count": 0,
      "outputs": [
        {
          "output_type": "stream",
          "text": [
            "WARNING:tensorflow:From /usr/local/lib/python3.6/dist-packages/keras/backend/tensorflow_backend.py:66: The name tf.get_default_graph is deprecated. Please use tf.compat.v1.get_default_graph instead.\n",
            "\n",
            "WARNING:tensorflow:From /usr/local/lib/python3.6/dist-packages/keras/backend/tensorflow_backend.py:541: The name tf.placeholder is deprecated. Please use tf.compat.v1.placeholder instead.\n",
            "\n",
            "WARNING:tensorflow:From /usr/local/lib/python3.6/dist-packages/keras/backend/tensorflow_backend.py:4432: The name tf.random_uniform is deprecated. Please use tf.random.uniform instead.\n",
            "\n",
            "WARNING:tensorflow:From /usr/local/lib/python3.6/dist-packages/keras/backend/tensorflow_backend.py:4267: The name tf.nn.max_pool is deprecated. Please use tf.nn.max_pool2d instead.\n",
            "\n",
            "Model: \"sequential_1\"\n",
            "_________________________________________________________________\n",
            "Layer (type)                 Output Shape              Param #   \n",
            "=================================================================\n",
            "conv2d_1 (Conv2D)            (None, 26, 26, 32)        320       \n",
            "_________________________________________________________________\n",
            "conv2d_2 (Conv2D)            (None, 24, 24, 64)        18496     \n",
            "_________________________________________________________________\n",
            "max_pooling2d_1 (MaxPooling2 (None, 12, 12, 64)        0         \n",
            "_________________________________________________________________\n",
            "flatten_1 (Flatten)          (None, 9216)              0         \n",
            "_________________________________________________________________\n",
            "dense_1 (Dense)              (None, 128)               1179776   \n",
            "_________________________________________________________________\n",
            "dense_2 (Dense)              (None, 10)                1290      \n",
            "=================================================================\n",
            "Total params: 1,199,882\n",
            "Trainable params: 1,199,882\n",
            "Non-trainable params: 0\n",
            "_________________________________________________________________\n"
          ],
          "name": "stdout"
        }
      ]
    },
    {
      "cell_type": "code",
      "metadata": {
        "id": "xHbrIHpC2zhq",
        "colab_type": "code",
        "outputId": "4064dc12-6d2e-46a7-ab78-ead8f8902151",
        "colab": {
          "base_uri": "https://localhost:8080/",
          "height": 107
        }
      },
      "source": [
        "model.compile(optimizer='adadelta', loss =\"categorical_crossentropy\", metrics=['accuracy'])"
      ],
      "execution_count": 0,
      "outputs": [
        {
          "output_type": "stream",
          "text": [
            "WARNING:tensorflow:From /usr/local/lib/python3.6/dist-packages/keras/optimizers.py:793: The name tf.train.Optimizer is deprecated. Please use tf.compat.v1.train.Optimizer instead.\n",
            "\n",
            "WARNING:tensorflow:From /usr/local/lib/python3.6/dist-packages/keras/backend/tensorflow_backend.py:3576: The name tf.log is deprecated. Please use tf.math.log instead.\n",
            "\n"
          ],
          "name": "stdout"
        }
      ]
    },
    {
      "cell_type": "code",
      "metadata": {
        "id": "VNJyGmdt3bd6",
        "colab_type": "code",
        "outputId": "018e2e8f-91c4-49d8-d453-c0367b247cea",
        "colab": {
          "base_uri": "https://localhost:8080/",
          "height": 1000
        }
      },
      "source": [
        "history = model.fit(X_train, y_train, batch_size=128,epochs=20, validation_data=(X_test, y_test))"
      ],
      "execution_count": 0,
      "outputs": [
        {
          "output_type": "stream",
          "text": [
            "WARNING:tensorflow:From /usr/local/lib/python3.6/dist-packages/tensorflow_core/python/ops/math_grad.py:1424: where (from tensorflow.python.ops.array_ops) is deprecated and will be removed in a future version.\n",
            "Instructions for updating:\n",
            "Use tf.where in 2.0, which has the same broadcast rule as np.where\n",
            "WARNING:tensorflow:From /usr/local/lib/python3.6/dist-packages/keras/backend/tensorflow_backend.py:1033: The name tf.assign_add is deprecated. Please use tf.compat.v1.assign_add instead.\n",
            "\n",
            "WARNING:tensorflow:From /usr/local/lib/python3.6/dist-packages/keras/backend/tensorflow_backend.py:1020: The name tf.assign is deprecated. Please use tf.compat.v1.assign instead.\n",
            "\n",
            "WARNING:tensorflow:From /usr/local/lib/python3.6/dist-packages/keras/backend/tensorflow_backend.py:3005: The name tf.Session is deprecated. Please use tf.compat.v1.Session instead.\n",
            "\n",
            "Train on 60000 samples, validate on 10000 samples\n",
            "Epoch 1/20\n",
            "WARNING:tensorflow:From /usr/local/lib/python3.6/dist-packages/keras/backend/tensorflow_backend.py:190: The name tf.get_default_session is deprecated. Please use tf.compat.v1.get_default_session instead.\n",
            "\n",
            "WARNING:tensorflow:From /usr/local/lib/python3.6/dist-packages/keras/backend/tensorflow_backend.py:197: The name tf.ConfigProto is deprecated. Please use tf.compat.v1.ConfigProto instead.\n",
            "\n",
            "WARNING:tensorflow:From /usr/local/lib/python3.6/dist-packages/keras/backend/tensorflow_backend.py:207: The name tf.global_variables is deprecated. Please use tf.compat.v1.global_variables instead.\n",
            "\n",
            "WARNING:tensorflow:From /usr/local/lib/python3.6/dist-packages/keras/backend/tensorflow_backend.py:216: The name tf.is_variable_initialized is deprecated. Please use tf.compat.v1.is_variable_initialized instead.\n",
            "\n",
            "WARNING:tensorflow:From /usr/local/lib/python3.6/dist-packages/keras/backend/tensorflow_backend.py:223: The name tf.variables_initializer is deprecated. Please use tf.compat.v1.variables_initializer instead.\n",
            "\n",
            "60000/60000 [==============================] - 151s 3ms/step - loss: 0.1941 - acc: 0.9391 - val_loss: 0.0521 - val_acc: 0.9827\n",
            "Epoch 2/20\n",
            "60000/60000 [==============================] - 149s 2ms/step - loss: 0.0489 - acc: 0.9850 - val_loss: 0.0385 - val_acc: 0.9871\n",
            "Epoch 3/20\n",
            "60000/60000 [==============================] - 149s 2ms/step - loss: 0.0304 - acc: 0.9904 - val_loss: 0.0329 - val_acc: 0.9892\n",
            "Epoch 4/20\n",
            "60000/60000 [==============================] - 150s 2ms/step - loss: 0.0206 - acc: 0.9932 - val_loss: 0.0310 - val_acc: 0.9898\n",
            "Epoch 5/20\n",
            "60000/60000 [==============================] - 149s 2ms/step - loss: 0.0149 - acc: 0.9953 - val_loss: 0.0314 - val_acc: 0.9899\n",
            "Epoch 6/20\n",
            "60000/60000 [==============================] - 149s 2ms/step - loss: 0.0095 - acc: 0.9972 - val_loss: 0.0359 - val_acc: 0.9892\n",
            "Epoch 7/20\n",
            "60000/60000 [==============================] - 149s 2ms/step - loss: 0.0070 - acc: 0.9980 - val_loss: 0.0497 - val_acc: 0.9883\n",
            "Epoch 8/20\n",
            "60000/60000 [==============================] - 149s 2ms/step - loss: 0.0042 - acc: 0.9990 - val_loss: 0.0425 - val_acc: 0.9894\n",
            "Epoch 9/20\n",
            "60000/60000 [==============================] - 149s 2ms/step - loss: 0.0032 - acc: 0.9992 - val_loss: 0.0360 - val_acc: 0.9910\n",
            "Epoch 10/20\n",
            "60000/60000 [==============================] - 149s 2ms/step - loss: 0.0022 - acc: 0.9994 - val_loss: 0.0397 - val_acc: 0.9904\n",
            "Epoch 11/20\n",
            "60000/60000 [==============================] - 150s 2ms/step - loss: 0.0015 - acc: 0.9997 - val_loss: 0.0415 - val_acc: 0.9908\n",
            "Epoch 12/20\n",
            "60000/60000 [==============================] - 150s 2ms/step - loss: 9.1159e-04 - acc: 0.9998 - val_loss: 0.0416 - val_acc: 0.9913\n",
            "Epoch 13/20\n",
            "60000/60000 [==============================] - 150s 2ms/step - loss: 7.4105e-04 - acc: 0.9999 - val_loss: 0.0430 - val_acc: 0.9910\n",
            "Epoch 14/20\n",
            "60000/60000 [==============================] - 150s 2ms/step - loss: 3.8363e-04 - acc: 1.0000 - val_loss: 0.0460 - val_acc: 0.9912\n",
            "Epoch 15/20\n",
            "60000/60000 [==============================] - 150s 2ms/step - loss: 3.6130e-04 - acc: 1.0000 - val_loss: 0.0467 - val_acc: 0.9906\n",
            "Epoch 16/20\n",
            "60000/60000 [==============================] - 149s 2ms/step - loss: 4.0784e-04 - acc: 1.0000 - val_loss: 0.0473 - val_acc: 0.9908\n",
            "Epoch 17/20\n",
            "60000/60000 [==============================] - 149s 2ms/step - loss: 3.8420e-04 - acc: 0.9999 - val_loss: 0.0475 - val_acc: 0.9910\n",
            "Epoch 18/20\n",
            "60000/60000 [==============================] - 149s 2ms/step - loss: 2.9689e-04 - acc: 1.0000 - val_loss: 0.0486 - val_acc: 0.9910\n",
            "Epoch 19/20\n",
            "60000/60000 [==============================] - 149s 2ms/step - loss: 2.8768e-04 - acc: 1.0000 - val_loss: 0.0494 - val_acc: 0.9908\n",
            "Epoch 20/20\n",
            "60000/60000 [==============================] - 149s 2ms/step - loss: 2.8491e-04 - acc: 1.0000 - val_loss: 0.0497 - val_acc: 0.9907\n"
          ],
          "name": "stdout"
        }
      ]
    },
    {
      "cell_type": "code",
      "metadata": {
        "id": "4hHEAXaW3wiX",
        "colab_type": "code",
        "colab": {}
      },
      "source": [
        "\n",
        "def make_accuracy_plot(history):\n",
        "    \"\"\"\n",
        "    Funkcja zwraca wykres dokładności (accuracy) modelu na zbiorze treningowym\n",
        "    i walidacyjnym.\n",
        "    \"\"\"\n",
        "    import matplotlib.pyplot as plt\n",
        "    import seaborn as sns\n",
        "    sns.set()\n",
        "    acc, val_acc = history.history['acc'], history.history['val_acc']\n",
        "    epochs = range(1, len(acc) + 1)\n",
        "\n",
        "    plt.figure(figsize=(10, 8))\n",
        "    plt.plot(epochs, acc, label='Dokładność trenowania', marker='o')\n",
        "    plt.plot(epochs, val_acc, label='Dokładność walidacji', marker='o')\n",
        "    plt.legend()\n",
        "    plt.title('Dokładność trenowania i walidacji')\n",
        "    plt.xlabel('Epoki')\n",
        "    plt.ylabel('Dokładność')\n",
        "    plt.show()\n",
        "\n",
        "def make_loss_plot(history):\n",
        "    \"\"\"\n",
        "    Funkcja zwraca wykres straty (loss) modelu na zbiorze treningowym\n",
        "    i walidacyjnym.\n",
        "    \"\"\"\n",
        "    import matplotlib.pyplot as plt\n",
        "    import seaborn as sns\n",
        "    sns.set()\n",
        "    loss, val_loss = history.history['loss'], history.history['val_loss']\n",
        "    epochs = range(1, len(loss) + 1)\n",
        "    \n",
        "    plt.figure(figsize=(10, 8))\n",
        "    plt.plot(epochs, loss, label='Strata trenowania', marker='o')\n",
        "    plt.plot(epochs, val_loss, label='Strata walidacji', marker='o')\n",
        "    plt.legend()\n",
        "    plt.title('Strata trenowania i walidacji')\n",
        "    plt.xlabel('Epoki')\n",
        "    plt.ylabel('Strata')\n",
        "    plt.show()"
      ],
      "execution_count": 0,
      "outputs": []
    },
    {
      "cell_type": "code",
      "metadata": {
        "id": "gpn5tSSwWfmh",
        "colab_type": "code",
        "outputId": "814faa64-deb6-408b-8e5b-f0c3efbd3643",
        "colab": {
          "base_uri": "https://localhost:8080/",
          "height": 518
        }
      },
      "source": [
        "make_accuracy_plot(history)"
      ],
      "execution_count": 0,
      "outputs": [
        {
          "output_type": "display_data",
          "data": {
            "image/png": "[encoded data removed]",
            "text/plain": [
              "<Figure size 720x576 with 1 Axes>"
            ]
          },
          "metadata": {
            "tags": []
          }
        }
      ]
    },
    {
      "cell_type": "code",
      "metadata": {
        "id": "mZ7m3EMEWkhQ",
        "colab_type": "code",
        "outputId": "6e181e53-0295-4faa-8ed6-db1d89c40ada",
        "colab": {
          "base_uri": "https://localhost:8080/",
          "height": 518
        }
      },
      "source": [
        "make_loss_plot(history)\n"
      ],
      "execution_count": 0,
      "outputs": [
        {
          "output_type": "display_data",
          "data": {
            "image/png": "[encoded data removed]",
            "text/plain": [
              "<Figure size 720x576 with 1 Axes>"
            ]
          },
          "metadata": {
            "tags": []
          }
        }
      ]
    },
    {
      "cell_type": "code",
      "metadata": {
        "id": "KN-7PJxGWssW",
        "colab_type": "code",
        "outputId": "56c32fcd-a7fd-4b7d-8961-9224a88da209",
        "colab": {
          "base_uri": "https://localhost:8080/",
          "height": 530
        }
      },
      "source": [
        "history = model.fit(X_train, y_train, batch_size=128,epochs=4, validation_data=(X_test, y_test))"
      ],
      "execution_count": 0,
      "outputs": [
        {
          "output_type": "stream",
          "text": [
            "WARNING:tensorflow:From /usr/local/lib/python3.6/dist-packages/tensorflow_core/python/ops/math_grad.py:1424: where (from tensorflow.python.ops.array_ops) is deprecated and will be removed in a future version.\n",
            "Instructions for updating:\n",
            "Use tf.where in 2.0, which has the same broadcast rule as np.where\n",
            "WARNING:tensorflow:From /usr/local/lib/python3.6/dist-packages/keras/backend/tensorflow_backend.py:1033: The name tf.assign_add is deprecated. Please use tf.compat.v1.assign_add instead.\n",
            "\n",
            "WARNING:tensorflow:From /usr/local/lib/python3.6/dist-packages/keras/backend/tensorflow_backend.py:1020: The name tf.assign is deprecated. Please use tf.compat.v1.assign instead.\n",
            "\n",
            "WARNING:tensorflow:From /usr/local/lib/python3.6/dist-packages/keras/backend/tensorflow_backend.py:3005: The name tf.Session is deprecated. Please use tf.compat.v1.Session instead.\n",
            "\n",
            "Train on 60000 samples, validate on 10000 samples\n",
            "Epoch 1/4\n",
            "WARNING:tensorflow:From /usr/local/lib/python3.6/dist-packages/keras/backend/tensorflow_backend.py:190: The name tf.get_default_session is deprecated. Please use tf.compat.v1.get_default_session instead.\n",
            "\n",
            "WARNING:tensorflow:From /usr/local/lib/python3.6/dist-packages/keras/backend/tensorflow_backend.py:197: The name tf.ConfigProto is deprecated. Please use tf.compat.v1.ConfigProto instead.\n",
            "\n",
            "WARNING:tensorflow:From /usr/local/lib/python3.6/dist-packages/keras/backend/tensorflow_backend.py:207: The name tf.global_variables is deprecated. Please use tf.compat.v1.global_variables instead.\n",
            "\n",
            "WARNING:tensorflow:From /usr/local/lib/python3.6/dist-packages/keras/backend/tensorflow_backend.py:216: The name tf.is_variable_initialized is deprecated. Please use tf.compat.v1.is_variable_initialized instead.\n",
            "\n",
            "WARNING:tensorflow:From /usr/local/lib/python3.6/dist-packages/keras/backend/tensorflow_backend.py:223: The name tf.variables_initializer is deprecated. Please use tf.compat.v1.variables_initializer instead.\n",
            "\n",
            "60000/60000 [==============================] - 15s 257us/step - loss: 0.1895 - acc: 0.9432 - val_loss: 0.0600 - val_acc: 0.9806\n",
            "Epoch 2/4\n",
            "60000/60000 [==============================] - 8s 133us/step - loss: 0.0458 - acc: 0.9861 - val_loss: 0.0461 - val_acc: 0.9847\n",
            "Epoch 3/4\n",
            "60000/60000 [==============================] - 8s 134us/step - loss: 0.0288 - acc: 0.9913 - val_loss: 0.0373 - val_acc: 0.9881\n",
            "Epoch 4/4\n",
            "60000/60000 [==============================] - 8s 133us/step - loss: 0.0194 - acc: 0.9941 - val_loss: 0.0318 - val_acc: 0.9893\n"
          ],
          "name": "stdout"
        }
      ]
    },
    {
      "cell_type": "code",
      "metadata": {
        "id": "xX3f9gWOXJXb",
        "colab_type": "code",
        "colab": {}
      },
      "source": [
        ""
      ],
      "execution_count": 0,
      "outputs": []
    }
  ]
}